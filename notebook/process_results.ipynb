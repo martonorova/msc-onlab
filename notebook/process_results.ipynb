{
 "cells": [
  {
   "cell_type": "code",
   "execution_count": null,
   "id": "0cfa92e7",
   "metadata": {},
   "outputs": [],
   "source": [
    "!pip install plotly==5.6.0"
   ]
  },
  {
   "cell_type": "code",
   "execution_count": null,
   "id": "894bb8ed",
   "metadata": {},
   "outputs": [],
   "source": [
    "import pandas as pd\n",
    "pd.set_option('display.max_rows', None)\n",
    "\n",
    "import os\n",
    "from io import StringIO\n",
    "import requests as r\n",
    "from requests.auth import HTTPBasicAuth\n",
    "from datetime import datetime"
   ]
  },
  {
   "cell_type": "code",
   "execution_count": null,
   "id": "c658dfd4",
   "metadata": {},
   "outputs": [],
   "source": [
    "###########\n",
    "# Constants\n",
    "###########\n",
    "\n",
    "JENKINS_URL = 'http://jenkins:8080'\n",
    "JENKINS_USER = os.getenv('JENKINS_USER')\n",
    "JENKINS_PASS = os.getenv('JENKINS_PASS')\n",
    "JENKINS_JOB_NAME = 'kubedepend'"
   ]
  },
  {
   "cell_type": "code",
   "execution_count": null,
   "id": "f5db931a",
   "metadata": {},
   "outputs": [],
   "source": [
    "custom_date_parser = lambda x: datetime.strptime(x, \"%m-%d-%Y_%H-%M-%S.%f\")"
   ]
  },
  {
   "cell_type": "code",
   "execution_count": null,
   "id": "eadb8f14",
   "metadata": {},
   "outputs": [],
   "source": [
    "#########\n",
    "# Get results from Jenkins and organize them into one DataFrame\n",
    "#########\n",
    "session = r.Session()\n",
    "session.auth = (JENKINS_USER, JENKINS_PASS)\n",
    "\n",
    "res = session.get(f'{JENKINS_URL}/job/{JENKINS_JOB_NAME}/api/json')\n",
    "data = res.json()\n",
    "builds = data['builds']\n",
    "\n",
    "results_raw = pd.DataFrame()\n",
    "build_parameters = pd.DataFrame()\n",
    "\n",
    "for build_summary in builds:\n",
    "    build_number = build_summary['number']\n",
    "    res = session.get(f'{JENKINS_URL}/job/{JENKINS_JOB_NAME}/{build_number}/api/json')\n",
    "    build = res.json()\n",
    "    artifact_list = build['artifacts']\n",
    "    if build['result'] == 'SUCCESS' and artifact_list:\n",
    "        for artifact in artifact_list:\n",
    "            # Get builds, where there is a 'results.csv' artifact\n",
    "            if artifact['fileName'] == 'results.csv':\n",
    "                # get results\n",
    "                res = session.get(f'{JENKINS_URL}/job/{JENKINS_JOB_NAME}/{build_number}/artifact/{artifact[\"relativePath\"]}')\n",
    "                meas_results_df = pd.read_csv(StringIO(res.text), delimiter=',', parse_dates=['measurement_seq_start_time', 'measurement_start_time', 'measurement_end_time'], date_parser=custom_date_parser)\n",
    "                results_raw = results_raw.append(meas_results_df, ignore_index=True)\n",
    "                \n",
    "                # meas_results_df['id'] is a Series\n",
    "                meas_seq_id = meas_results_df['id'][0]\n",
    "            \n",
    "                # extract parameter info\n",
    "                parameterItems = list(filter(lambda a: a and a['_class'] == 'hudson.model.ParametersAction' ,build['actions']))[0]['parameters']\n",
    "                parameters = list(filter(lambda p: p['_class'] in ['hudson.model.BooleanParameterValue', 'hudson.model.StringParameterValue'], parameterItems))\n",
    "                reshaped = dict()\n",
    "                for parameter in parameters:\n",
    "                    reshaped[parameter['name']] = parameter['value']\n",
    "                # add build number\n",
    "                reshaped['build_number'] = build_number\n",
    "                reshaped['id'] = meas_seq_id\n",
    "                build_parameters = build_parameters.append(reshaped, ignore_index=True)\n",
    "                "
   ]
  },
  {
   "cell_type": "code",
   "execution_count": null,
   "id": "815dd124",
   "metadata": {},
   "outputs": [],
   "source": [
    "# 'results_raw' always stores all the data from Jenkins\n",
    "# if an error occurs, the 'results' can be reset without querying Jenkins again\n",
    "results = results_raw"
   ]
  },
  {
   "cell_type": "code",
   "execution_count": null,
   "id": "ce8cf640",
   "metadata": {},
   "outputs": [],
   "source": [
    "# Clean build_parameters\n",
    "build_parameters = build_parameters.fillna(False)\n",
    "build_parameters['CleanEnhancements'] = build_parameters['CleanEnhancements'].astype(bool)\n",
    "build_parameters['DeleteCFStack'] = build_parameters['DeleteCFStack'].astype(bool)\n",
    "build_parameters['CleanWorkSpace'] = build_parameters['CleanWorkSpace'].astype(bool)\n",
    "build_parameters['DeployTools'] = build_parameters['DeployTools'].astype(bool)\n",
    "build_parameters['UseKafka'] = build_parameters['UseKafka'].astype(bool)\n",
    "build_parameters['UseHeartbeats'] = build_parameters['UseHeartbeats'].astype(bool)\n",
    "build_parameters['build_number'] = build_parameters['build_number'].astype(int)\n",
    "\n",
    "build_parameters.insert(0, 'build_number', build_parameters.pop('build_number'))\n",
    "build_parameters.insert(0, 'id', build_parameters.pop('id'))\n",
    "\n",
    "\n",
    "build_parameters.head()\n",
    "# build_parameters.info()"
   ]
  },
  {
   "cell_type": "code",
   "execution_count": null,
   "id": "0dd6ae0b",
   "metadata": {},
   "outputs": [],
   "source": [
    "# Select relevant columns\n",
    "build_parameters = build_parameters.loc[:,['id', 'build_number', 'UseKafka', 'UseHeartbeats']].reset_index(drop=True)\n",
    "build_parameters = build_parameters.rename(columns={'UseKafka': 'use_kafka', 'UseHeartbeats': 'use_heartbeats'})\n",
    "build_parameters.head()"
   ]
  },
  {
   "cell_type": "code",
   "execution_count": null,
   "id": "fb2ed0e0",
   "metadata": {},
   "outputs": [],
   "source": [
    "# for development, get only base measurements\n",
    "results = results[results['comment'] == 'final']\n",
    "# results.head()\n",
    "results"
   ]
  },
  {
   "cell_type": "code",
   "execution_count": null,
   "id": "b42ae52c",
   "metadata": {},
   "outputs": [],
   "source": [
    "# Set meas count to the maximum of the measuremenet count in the same measurement sequence\n",
    "\n",
    "# select columns\n",
    "results_meas_count = results.loc[:, ['id', 'measurement_count']]\n",
    "# group by max value\n",
    "results_meas_max_count = results_meas_count.groupby(by=['id']).max()\n",
    "# rename\n",
    "results_meas_max_count = results_meas_max_count.rename(columns={'measurement_count': 'measurement_count_max'})\n",
    "# merge with results\n",
    "results = results.merge(results_meas_max_count, on='id').drop(columns=['measurement_count']).rename(columns={'measurement_count_max': 'measurement_count'})\n",
    "results"
   ]
  },
  {
   "cell_type": "code",
   "execution_count": null,
   "id": "6ba56c0e",
   "metadata": {},
   "outputs": [],
   "source": []
  },
  {
   "cell_type": "code",
   "execution_count": null,
   "id": "dc33c9d5",
   "metadata": {},
   "outputs": [],
   "source": [
    "#  group by measurement ID and get mean of numerical properties\n",
    "results_avg_by_id = results.groupby(by=['id']).mean()\n",
    "# results_avg_by_id.head()\n",
    "results_avg_by_id"
   ]
  },
  {
   "cell_type": "code",
   "execution_count": null,
   "id": "87b03d88",
   "metadata": {},
   "outputs": [],
   "source": [
    "# get non-numerical data for each measurement sequence\n",
    "results_non_numerical = results.loc[:, ['id', 'fault_profile', 'measurement_seq_start_time', 'cluster_type', 'comment']] \\\n",
    "    .drop_duplicates() \\\n",
    "    .reset_index(drop=True)\n",
    "# results_non_numerical.head()\n",
    "results_non_numerical"
   ]
  },
  {
   "cell_type": "code",
   "execution_count": null,
   "id": "cf8f94f2",
   "metadata": {},
   "outputs": [],
   "source": [
    "# merge the grouped by avg results with non-numerical data\n",
    "results = pd.merge(results_avg_by_id, results_non_numerical, on='id')\n",
    "\n",
    "# merge the results with build parameters\n",
    "results = pd.merge(results, build_parameters, on='id')\n",
    "\n",
    "# filter out measurement sequence with less than MIN_MEASUREMENT_COUNT measurements\n",
    "# results = results[results['measurement_count'] >= MIN_MEASUREMENT_COUNT]\n",
    "\n",
    "# results.head()\n",
    "results"
   ]
  },
  {
   "cell_type": "code",
   "execution_count": null,
   "id": "ad919e14",
   "metadata": {},
   "outputs": [],
   "source": [
    "# drop rows where there are NaN data\n",
    "results = results.dropna()\n",
    "\n",
    "# drop rows where mtbf metrics have > 1 value\n",
    "results = results[results['mtbf'] <= 1]\n",
    "\n",
    "# drop rows where comment is 'test'\n",
    "resutls = results[results['comment'] != 'test']\n",
    "\n",
    "# group by fault profile and only keep the newest measurement\n",
    "time_column = 'measurement_seq_start_time'\n",
    "latest_idx = results.groupby(['fault_profile', 'use_kafka', 'use_heartbeats'])[time_column].transform('max') == results[time_column]\n",
    "\n",
    "results = results[latest_idx]\n",
    "results"
   ]
  },
  {
   "cell_type": "code",
   "execution_count": null,
   "id": "3ce54063",
   "metadata": {},
   "outputs": [],
   "source": [
    "def enhancement_labeling(row):\n",
    "    if (row['use_kafka'] and row['use_heartbeats']):\n",
    "        return 'Kafka_And_Heartbeats'\n",
    "    if (row['use_kafka']):\n",
    "        return 'Kafka'\n",
    "    if (row['use_heartbeats']):\n",
    "        return 'Heartbeats'\n",
    "    return 'None'"
   ]
  },
  {
   "cell_type": "code",
   "execution_count": null,
   "id": "318f89ea",
   "metadata": {},
   "outputs": [],
   "source": [
    "results['enhancement'] = results.apply(enhancement_labeling, axis=1)\n",
    "results = results.drop(columns=['use_kafka', 'use_heartbeats'])\n",
    "results"
   ]
  },
  {
   "cell_type": "code",
   "execution_count": null,
   "id": "6bebfd31",
   "metadata": {},
   "outputs": [],
   "source": [
    "# Save results\n",
    "results.to_csv('data/results_cleaned.csv')"
   ]
  },
  {
   "cell_type": "code",
   "execution_count": null,
   "id": "7cca8960",
   "metadata": {},
   "outputs": [],
   "source": []
  }
 ],
 "metadata": {
  "kernelspec": {
   "display_name": "Python 3 (ipykernel)",
   "language": "python",
   "name": "python3"
  },
  "language_info": {
   "codemirror_mode": {
    "name": "ipython",
    "version": 3
   },
   "file_extension": ".py",
   "mimetype": "text/x-python",
   "name": "python",
   "nbconvert_exporter": "python",
   "pygments_lexer": "ipython3",
   "version": "3.9.7"
  }
 },
 "nbformat": 4,
 "nbformat_minor": 5
}
