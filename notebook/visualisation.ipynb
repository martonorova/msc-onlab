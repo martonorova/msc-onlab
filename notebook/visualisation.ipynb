{
 "cells": [
  {
   "cell_type": "code",
   "execution_count": null,
   "id": "0cfa92e7",
   "metadata": {},
   "outputs": [],
   "source": [
    "!pip install plotly==5.6.0\n",
    "!pip install -U kaleido"
   ]
  },
  {
   "cell_type": "code",
   "execution_count": null,
   "id": "894bb8ed",
   "metadata": {},
   "outputs": [],
   "source": [
    "import plotly.express as px\n",
    "import pandas as pd"
   ]
  },
  {
   "cell_type": "code",
   "execution_count": null,
   "id": "603b7b79",
   "metadata": {},
   "outputs": [],
   "source": [
    "results = pd.read_csv('data/results_cleaned.csv')"
   ]
  },
  {
   "cell_type": "code",
   "execution_count": null,
   "id": "b2a8b11f",
   "metadata": {},
   "outputs": [],
   "source": [
    "metrics = results[['fault_profile', 'availability', 'mut', 'mdt', 'mtbf', 'finished_jobs', 'submitted_jobs', 'enhancement']]\n",
    "metrics['finished_jobs_ratio'] = (\n",
    "    metrics['finished_jobs'] / metrics['submitted_jobs'])\n",
    "metrics = metrics.drop(columns=['finished_jobs', 'submitted_jobs'])\n",
    "metrics.head()"
   ]
  },
  {
   "cell_type": "code",
   "execution_count": null,
   "id": "986a0d7b",
   "metadata": {},
   "outputs": [],
   "source": [
    "# rename to relative metrics\n",
    "metrics = metrics.rename(columns={'mut': 'rel_MUT', 'mdt': 'rel_MDT', 'mtbf': 'rel_MTBF'})\n",
    "metrics"
   ]
  },
  {
   "cell_type": "code",
   "execution_count": null,
   "id": "812a69d1",
   "metadata": {},
   "outputs": [],
   "source": [
    "# Baseline metrics\n",
    "baseline_metrics = metrics[metrics['enhancement'] == 'None']\n",
    "baseline_metrics"
   ]
  },
  {
   "cell_type": "code",
   "execution_count": null,
   "id": "83edcd6a",
   "metadata": {},
   "outputs": [],
   "source": [
    "# create long data from wide\n",
    "metrics_long = metrics.melt(id_vars=['fault_profile', 'enhancement'], var_name='metric')\n",
    "metrics_long.head()\n",
    "metrics_long"
   ]
  },
  {
   "cell_type": "code",
   "execution_count": null,
   "id": "ee786e43",
   "metadata": {},
   "outputs": [],
   "source": [
    "# Baseline metrics long\n",
    "baseline_metrics_long = metrics_long[metrics_long['enhancement'] == 'None']\n",
    "baseline_metrics_long"
   ]
  },
  {
   "cell_type": "code",
   "execution_count": null,
   "id": "c4a81bd2",
   "metadata": {},
   "outputs": [],
   "source": [
    "# ALL BASELINE RESULTS IN ONE Radar\n",
    "fig = px.line_polar(baseline_metrics_long, r=\"value\", theta=\"metric\", color=\"fault_profile\", line_close=True, color_discrete_sequence=px.colors.qualitative.Dark24)\n",
    "# fig.update_traces(fill='toself')\n",
    "fig.show()"
   ]
  },
  {
   "cell_type": "code",
   "execution_count": null,
   "id": "64d8b835",
   "metadata": {
    "scrolled": false
   },
   "outputs": [],
   "source": [
    "# BASELINE METRICS - 1 Radar PLOT / PROFILE (no subplots)\n",
    "\n",
    "# fault_profiles = baseline_metrics['fault_profile'].tolist()\n",
    "\n",
    "# for profile in fault_profiles:\n",
    "#     data = baseline_metrics_long[baseline_metrics_long['fault_profile'] == profile]\n",
    "    \n",
    "#     fig = px.line_polar(\n",
    "#         data,\n",
    "#         r=\"value\",\n",
    "#         theta='metric',\n",
    "#         line_close=True,\n",
    "#         title=f'Fault Profile: {profile}'\n",
    "#     )\n",
    "#     fig.update_traces(fill='toself')\n",
    "#     fig.show()"
   ]
  },
  {
   "cell_type": "code",
   "execution_count": null,
   "id": "4e362122",
   "metadata": {
    "scrolled": false
   },
   "outputs": [],
   "source": [
    "# BASELINE METRICS - GROUPED BARCHART\n",
    "import plotly.graph_objects as go\n",
    "\n",
    "fault_profiles = baseline_metrics['fault_profile'].tolist()\n",
    "bars = []\n",
    "for profile in fault_profiles:\n",
    "    data = baseline_metrics_long[baseline_metrics_long['fault_profile'] == profile].sort_values(by='metric')\n",
    "#     print(data)\n",
    "    bars.append(go.Bar(name=profile, x=data['metric'], y=data['value']))\n",
    "\n",
    "fig = go.Figure(data=bars)\n",
    "fig.update_layout(barmode='group')\n",
    "\n",
    "fig.show()\n",
    "\n",
    "fig.write_image('images/baseline_grouped_barchart.png', engine='kaleido',scale=2)"
   ]
  },
  {
   "cell_type": "markdown",
   "id": "8b434059",
   "metadata": {},
   "source": [
    "# Enhancements compared to baseline results"
   ]
  },
  {
   "cell_type": "markdown",
   "id": "901991e4",
   "metadata": {},
   "source": [
    "## Kafka"
   ]
  },
  {
   "cell_type": "code",
   "execution_count": null,
   "id": "beb210c3",
   "metadata": {},
   "outputs": [],
   "source": [
    "### only use_kafka and baseline metrics (on same fault profiles)\n",
    "kafka_only_metrics_long = metrics_long[metrics_long['enhancement'] == 'Kafka']\n",
    "kafka_only_metrics_long"
   ]
  },
  {
   "cell_type": "code",
   "execution_count": null,
   "id": "256305fd",
   "metadata": {},
   "outputs": [],
   "source": [
    "kafka_only_profiles = kafka_only_metrics_long['fault_profile'].unique().tolist()\n",
    "kafka_only_profiles"
   ]
  },
  {
   "cell_type": "code",
   "execution_count": null,
   "id": "1a27d8d3",
   "metadata": {},
   "outputs": [],
   "source": [
    "kafka_or_baseline_filter = metrics_long['enhancement'].isin(['None', 'Kafka'])\n",
    "kafka_with_base_metrics_long = metrics_long[ \\\n",
    "    (kafka_or_baseline_filter & (metrics_long['fault_profile'].isin(kafka_only_profiles)))]\n",
    "kafka_with_base_metrics_long"
   ]
  },
  {
   "cell_type": "code",
   "execution_count": null,
   "id": "402733df",
   "metadata": {},
   "outputs": [],
   "source": [
    "for profile in kafka_only_profiles:\n",
    "    data = kafka_with_base_metrics_long[kafka_with_base_metrics_long['fault_profile'] == profile]\n",
    "    \n",
    "    fig = px.line_polar(\n",
    "        data,\n",
    "        r=\"value\",\n",
    "        theta='metric',\n",
    "        color=\"enhancement\",\n",
    "        line_close=True,\n",
    "        title=f'Fault Profile: {profile}'\n",
    "    )\n",
    "    fig.update_traces(fill='toself')\n",
    "    fig.show()\n",
    "    \n",
    "    fig.write_image(f'images/kafka_with_base_{profile}.png', engine='kaleido',scale=2)"
   ]
  },
  {
   "cell_type": "markdown",
   "id": "ec18dabb",
   "metadata": {},
   "source": [
    "## Heartbeats"
   ]
  },
  {
   "cell_type": "code",
   "execution_count": null,
   "id": "126e2373",
   "metadata": {},
   "outputs": [],
   "source": [
    "heartbeats_only_metrics_long = metrics_long[metrics_long['enhancement'] == 'Heartbeats']\n",
    "heartbeats_only_metrics_long"
   ]
  },
  {
   "cell_type": "code",
   "execution_count": null,
   "id": "db797064",
   "metadata": {},
   "outputs": [],
   "source": [
    "heartbeats_only_profiles = heartbeats_only_metrics_long['fault_profile'].unique().tolist()\n",
    "heartbeats_only_profiles"
   ]
  },
  {
   "cell_type": "code",
   "execution_count": null,
   "id": "ef770f58",
   "metadata": {},
   "outputs": [],
   "source": [
    "heartbeats_or_baseline_filter = metrics_long['enhancement'].isin(['None', 'Heartbeats'])\n",
    "heartbeats_with_base_metrics_long = metrics_long[ \\\n",
    "    (heartbeats_or_baseline_filter & (metrics_long['fault_profile'].isin(heartbeats_only_profiles)))]\n",
    "heartbeats_with_base_metrics_long"
   ]
  },
  {
   "cell_type": "code",
   "execution_count": null,
   "id": "3d67f29e",
   "metadata": {},
   "outputs": [],
   "source": [
    "for profile in heartbeats_only_profiles:\n",
    "    data = heartbeats_with_base_metrics_long[heartbeats_with_base_metrics_long['fault_profile'] == profile]\n",
    "    \n",
    "    fig = px.line_polar(\n",
    "        data,\n",
    "        r=\"value\",\n",
    "        theta='metric',\n",
    "        color=\"enhancement\",\n",
    "        line_close=True,\n",
    "        title=f'Fault Profile: {profile}'\n",
    "    )\n",
    "    fig.update_traces(fill='toself')\n",
    "    fig.show()\n",
    "    fig.write_image(f'images/heartbeats_with_base_{profile}.png', engine='kaleido',scale=2)"
   ]
  },
  {
   "cell_type": "markdown",
   "id": "223d6289",
   "metadata": {},
   "source": [
    "## Kafka and Heartbeats"
   ]
  },
  {
   "cell_type": "code",
   "execution_count": null,
   "id": "f98a1a54",
   "metadata": {},
   "outputs": [],
   "source": [
    "kafka_and_hb_metrics_long = metrics_long[metrics_long['enhancement'] == 'Kafka_And_Heartbeats']\n",
    "kafka_and_hb_metrics_long"
   ]
  },
  {
   "cell_type": "code",
   "execution_count": null,
   "id": "274feb1c",
   "metadata": {},
   "outputs": [],
   "source": [
    "kafka_and_hb_profiles = kafka_and_hb_metrics_long['fault_profile'].unique().tolist()\n",
    "kafka_and_hb_profiles"
   ]
  },
  {
   "cell_type": "code",
   "execution_count": null,
   "id": "a6bf0ee8",
   "metadata": {},
   "outputs": [],
   "source": [
    "kafka_and_hb_or_baseline_filter = metrics_long['enhancement'].isin(['None', 'Kafka_And_Heartbeats'])\n",
    "kafka_and_hb_with_base_metrics_long = metrics_long[ \\\n",
    "    (kafka_and_hb_or_baseline_filter & (metrics_long['fault_profile'].isin(kafka_and_hb_profiles)))]\n",
    "kafka_and_hb_with_base_metrics_long"
   ]
  },
  {
   "cell_type": "code",
   "execution_count": null,
   "id": "95377cf1",
   "metadata": {},
   "outputs": [],
   "source": [
    "for profile in kafka_and_hb_profiles:\n",
    "    data = kafka_and_hb_with_base_metrics_long[kafka_and_hb_with_base_metrics_long['fault_profile'] == profile]\n",
    "    \n",
    "    fig = px.line_polar(\n",
    "        data,\n",
    "        r=\"value\",\n",
    "        theta='metric',\n",
    "        color=\"enhancement\",\n",
    "        line_close=True,\n",
    "        title=f'Fault Profile: {profile}'\n",
    "    )\n",
    "    fig.update_traces(fill='toself')\n",
    "    fig.show()\n",
    "    fig.write_image(f'images/kafka_and_hb_with_base_{profile}.png', engine='kaleido',scale=2)"
   ]
  },
  {
   "cell_type": "code",
   "execution_count": null,
   "id": "258042f3",
   "metadata": {},
   "outputs": [],
   "source": []
  }
 ],
 "metadata": {
  "kernelspec": {
   "display_name": "Python 3 (ipykernel)",
   "language": "python",
   "name": "python3"
  },
  "language_info": {
   "codemirror_mode": {
    "name": "ipython",
    "version": 3
   },
   "file_extension": ".py",
   "mimetype": "text/x-python",
   "name": "python",
   "nbconvert_exporter": "python",
   "pygments_lexer": "ipython3",
   "version": "3.9.7"
  }
 },
 "nbformat": 4,
 "nbformat_minor": 5
}
