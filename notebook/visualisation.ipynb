{
 "cells": [
  {
   "cell_type": "code",
   "execution_count": null,
   "id": "0cfa92e7",
   "metadata": {},
   "outputs": [],
   "source": [
    "!pip install plotly==5.6.0"
   ]
  },
  {
   "cell_type": "code",
   "execution_count": null,
   "id": "894bb8ed",
   "metadata": {},
   "outputs": [],
   "source": [
    "import plotly.express as px\n",
    "import pandas as pd"
   ]
  },
  {
   "cell_type": "code",
   "execution_count": null,
   "id": "603b7b79",
   "metadata": {},
   "outputs": [],
   "source": [
    "results = pd.read_csv('data/results_cleaned.csv')"
   ]
  },
  {
   "cell_type": "code",
   "execution_count": null,
   "id": "b2a8b11f",
   "metadata": {},
   "outputs": [],
   "source": [
    "metrics = results[['fault_profile', 'availability', 'mut', 'mdt', 'mtbf', 'finished_jobs', 'submitted_jobs']]\n",
    "metrics['finished_jobs_ratio'] = (\n",
    "    metrics['finished_jobs'] / metrics['submitted_jobs'])\n",
    "metrics = metrics.drop(columns=['finished_jobs', 'submitted_jobs'])\n",
    "metrics.head()"
   ]
  },
  {
   "cell_type": "code",
   "execution_count": null,
   "id": "83edcd6a",
   "metadata": {},
   "outputs": [],
   "source": [
    "# create long data from wide\n",
    "metrics_long = metrics.melt(id_vars=['fault_profile'], var_name='metric')\n",
    "metrics_long.head()"
   ]
  },
  {
   "cell_type": "code",
   "execution_count": null,
   "id": "c4a81bd2",
   "metadata": {},
   "outputs": [],
   "source": [
    "# ALL IN ONE Radar\n",
    "fig = px.line_polar(metrics_long, r=\"value\", theta=\"metric\", color=\"fault_profile\", line_close=True, color_discrete_sequence=px.colors.qualitative.Dark24)\n",
    "# fig.update_traces(fill='toself')\n",
    "fig.show()"
   ]
  },
  {
   "cell_type": "code",
   "execution_count": null,
   "id": "64d8b835",
   "metadata": {
    "scrolled": false
   },
   "outputs": [],
   "source": [
    "# 1 Radar PLOT / PROFILE (no subplots)\n",
    "\n",
    "fault_profiles = metrics['fault_profile'].tolist()\n",
    "\n",
    "for profile in fault_profiles:\n",
    "    data = metrics_long[metrics_long['fault_profile'] == profile]\n",
    "    \n",
    "    fig = px.line_polar(\n",
    "        data,\n",
    "        r=\"value\",\n",
    "        theta='metric',\n",
    "#         color=\"fault_profile\",\n",
    "        line_close=True,\n",
    "        title=f'Fault Profile: {profile}'\n",
    "    )\n",
    "    fig.update_traces(fill='toself')\n",
    "    fig.show()"
   ]
  },
  {
   "cell_type": "code",
   "execution_count": null,
   "id": "4e362122",
   "metadata": {
    "scrolled": false
   },
   "outputs": [],
   "source": [
    "# GROUPED BARCHART\n",
    "import plotly.graph_objects as go\n",
    "\n",
    "fault_profiles = metrics['fault_profile'].tolist()\n",
    "bars = []\n",
    "for profile in fault_profiles:\n",
    "    data = metrics_long[metrics_long['fault_profile'] == profile].sort_values(by='metric')\n",
    "#     print(data)\n",
    "    bars.append(go.Bar(name=profile, x=data['metric'], y=data['value']))\n",
    "\n",
    "fig = go.Figure(data=bars)\n",
    "fig.update_layout(barmode='group')\n",
    "fig.show()\n"
   ]
  },
  {
   "cell_type": "code",
   "execution_count": null,
   "id": "beb210c3",
   "metadata": {},
   "outputs": [],
   "source": []
  }
 ],
 "metadata": {
  "kernelspec": {
   "display_name": "Python 3 (ipykernel)",
   "language": "python",
   "name": "python3"
  },
  "language_info": {
   "codemirror_mode": {
    "name": "ipython",
    "version": 3
   },
   "file_extension": ".py",
   "mimetype": "text/x-python",
   "name": "python",
   "nbconvert_exporter": "python",
   "pygments_lexer": "ipython3",
   "version": "3.9.7"
  }
 },
 "nbformat": 4,
 "nbformat_minor": 5
}
